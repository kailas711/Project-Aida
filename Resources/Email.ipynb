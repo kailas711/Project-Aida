{
 "cells": [
  {
   "cell_type": "markdown",
   "metadata": {},
   "source": [
    "# Reading Emails in Python"
   ]
  },
  {
   "cell_type": "code",
   "execution_count": 84,
   "metadata": {},
   "outputs": [
    {
     "data": {
      "text/plain": [
       "('OK', [b'mmbroker41@gmail.com authenticated (Success)'])"
      ]
     },
     "execution_count": 84,
     "metadata": {},
     "output_type": "execute_result"
    }
   ],
   "source": [
    "import imaplib\n",
    "import email\n",
    "from email.header import decode_header\n",
    "import webbrowser\n",
    "import os \n",
    "\n",
    "# Account details \n",
    "username = \"mmbroker41@gmail.com\"\n",
    "password = \"qged yoxi qhht tamv\"\n",
    "\n",
    "# setup Imap server and authenticate using SSL \n",
    "imap_server = \"imap.gmail.com\"\n",
    "imap = imaplib.IMAP4_SSL(imap_server)\n",
    "imap.login(username,password)"
   ]
  },
  {
   "cell_type": "code",
   "execution_count": 85,
   "metadata": {},
   "outputs": [],
   "source": [
    "status , messages = imap.select(\"INBOX\")\n",
    "# number of top emails to be fetched \n",
    "N=3\n",
    "messages = int(messages[0])\n",
    "#You can use the imap.list() method to see the available mailboxes.\n",
    "# imap.list()"
   ]
  },
  {
   "cell_type": "code",
   "execution_count": 86,
   "metadata": {},
   "outputs": [],
   "source": [
    "from bs4 import BeautifulSoup\n",
    "    \n",
    "def parser_function(body):\n",
    "    extracted_mails = []\n",
    "    i=0\n",
    "    for mail in body:\n",
    "        Parser = BeautifulSoup(mail, 'html.parser')\n",
    "        text_extracted = Parser.get_text().strip()[:500]\n",
    "        extracted_mails.append(f\"{i}.  \" + text_extracted)\n",
    "        i+=1\n",
    "    return extracted_mails"
   ]
  },
  {
   "cell_type": "code",
   "execution_count": 87,
   "metadata": {},
   "outputs": [],
   "source": [
    "def get_mail_content():\n",
    "\n",
    "    email_contents = []\n",
    "    metadata = {}\n",
    "    for i in range(messages, messages-N, -1):\n",
    "        # fetch emails by ID \n",
    "        res, msg = imap.fetch(str(i),\"(RFC822)\")\n",
    "        \n",
    "        for response in msg:\n",
    "            if isinstance(response,tuple):\n",
    "\n",
    "                # parse a bytes email into a message object, it will be encoded\n",
    "                msg = email.message_from_bytes(response[1])\n",
    "                \n",
    "                # decode the mail \n",
    "                subject, encoding = decode_header(msg[\"Subject\"])[0]\n",
    "\n",
    "                # if subject is an instance then decode. \n",
    "                if isinstance(subject, bytes):\n",
    "                    subject = subject.decode(encoding)\n",
    "\n",
    "                # decode email sender \n",
    "                sender , encoding = decode_header(msg.get(\"From\"))[0]\n",
    "\n",
    "                # same if the sender is encoded \n",
    "                if isinstance(sender, bytes):\n",
    "                    sender = sender.decode(encoding)\n",
    "                \n",
    "                # Print the subject and sender details.\n",
    "                print(\"Subject : \", subject)\n",
    "                print(\"From address : \", sender)\n",
    "                \n",
    "                # if the email is multipart , iterate over the mail.\n",
    "                if msg.is_multipart():\n",
    "                    for parts in msg.walk():\n",
    "                        \n",
    "                        # extract content type from email.\n",
    "                        content_type = parts.get_content_type()\n",
    "                        content_disposition = str(parts.get(\"Content-Disposition\"))\n",
    "                        \n",
    "                    # try to extract the body \n",
    "                        try:\n",
    "                            body = parts.get_payload(decode=True).decode()\n",
    "                          \n",
    "                            # add to the list \n",
    "                            email_contents.append(body)\n",
    "\n",
    "                        except:\n",
    "                            pass  \n",
    "                                    \n",
    "                # if the msg is not of mutlipart \n",
    "                else:\n",
    "                    content_type = msg.get_content_type()\n",
    "                    # get mail body \n",
    "                    body = msg.get_payload(decode=True).decode()\n",
    "                    if body not in email_contents:\n",
    "                        email_contents.append(body)\n",
    "                metadata[sender] = subject \n",
    "\n",
    "    email_contents = parser_function(email_contents)\n",
    "\n",
    "    return email_contents, metadata"
   ]
  },
  {
   "cell_type": "markdown",
   "metadata": {},
   "source": [
    "# HTML Parsing the mail"
   ]
  },
  {
   "cell_type": "code",
   "execution_count": 88,
   "metadata": {},
   "outputs": [
    {
     "name": "stdout",
     "output_type": "stream",
     "text": [
      "Subject :  [Guide] End-to-end workflow with model distillation for computer\n",
      " vision\n",
      "From address :  Labelbox <team@labelbox.com>\n",
      "Subject :  Lottie Creator is here 🪄\n",
      "From address :  LottieFiles <hello@lottiefiles.com>\n",
      "Subject :  Guide to Training Oriented Bounding Box Models\n",
      "From address :  Roboflow Team <hello@roboflow.com>\n",
      "2\n"
     ]
    }
   ],
   "source": [
    "body = get_mail_content()\n",
    "print(len(body))"
   ]
  },
  {
   "cell_type": "code",
   "execution_count": 89,
   "metadata": {},
   "outputs": [
    {
     "data": {
      "text/plain": [
       "(['0.  Hi\\xa0Broker,\\r\\n\\r\\n\\r\\nTechniques like model distillation and fine-tuning have enabled companies and start-ups alike to create cutting edge foundation models, both proprietary and open-source. \\r\\n\\r\\nInstead of struggling to deploy and serve Large Vision Models in production, AI developers can leverage their unique image data to create smaller, task specific models that capture the broad capabilities of vision foundation models with the domain expertise to solve hard problems efficiently. \\r\\n\\r\\nIn this guid',\n",
       "  '1.  Read now\\n\\r\\n \\xa0͏\\xa0͏\\xa0͏\\xa0͏\\xa0͏\\xa0͏\\xa0͏\\xa0͏\\xa0͏\\xa0͏\\xa0͏\\xa0͏\\xa0͏\\xa0͏\\xa0͏\\xa0͏\\xa0͏\\xa0͏\\xa0͏ \\xa0͏\\xa0͏\\xa0͏\\xa0͏\\xa0͏\\xa0͏\\xa0͏\\xa0͏\\xa0͏\\xa0͏\\xa0͏\\xa0͏\\xa0͏\\xa0͏\\xa0͏\\xa0͏\\xa0͏\\xa0͏\\xa0͏ \\xa0͏\\xa0͏\\xa0͏\\xa0͏\\xa0͏\\xa0͏\\xa0͏\\xa0͏\\xa0͏\\xa0͏\\xa0͏\\xa0͏\\xa0͏\\xa0͏\\xa0͏\\xa0͏\\xa0͏\\xa0͏\\xa0͏ \\xa0͏\\xa0͏\\xa0͏\\xa0͏\\xa0͏\\xa0͏\\xa0͏\\xa0͏\\xa0͏\\xa0͏\\xa0͏\\xa0͏\\xa0͏\\xa0͏\\xa0͏\\xa0͏\\xa0͏\\xa0͏\\xa0͏ \\xa0͏\\xa0͏\\xa0͏\\xa0͏\\xa0͏\\xa0͏\\xa0͏\\xa0͏\\xa0͏\\xa0͏\\xa0͏\\xa0͏\\xa0͏\\xa0͏\\xa0͏\\xa0͏\\xa0͏\\xa0͏\\xa0͏ \\xa0͏\\xa0͏\\xa0͏\\xa0͏\\xa0͏\\xa0͏\\xa0͏\\xa0͏\\xa0͏\\xa0͏\\xa0͏\\xa0͏\\xa0͏\\xa0͏\\xa0͏\\xa0͏\\xa0͏\\xa0͏\\xa0͏ \\r\\n\\n\\n\\n\\n\\n\\n\\n\\n\\n\\n\\n\\n\\n\\n\\n\\n\\n\\n\\n\\n \\n\\n\\n\\n\\n\\n\\n\\n\\n\\n\\n\\n\\n\\n\\n  \\n\\n \\n\\n\\n\\n \\n\\n\\n\\n\\n\\n\\n\\n\\n\\n\\n\\n\\n\\n\\n\\n\\n\\r\\n Hi\\xa0Broker, \\r\\n\\n\\n\\n\\n\\r\\n Techniques like model distillation and fine-tuning have enabled companies and start-ups alike to create cutting edge foundation models, both proprietary and open-sour',\n",
       "  '2.  A powerful web-based Lottie creation tool. Updates specially for you!                                                                                      Hi there,                    Introducing  Lottie Creator, a web-based Lottie animation tool, designed to create ultra lightweight, highly customizable and interactive animations for web, social and apps.                                                                              Timeline and keyframes         Gain precise control over your an',\n",
       "  '3.  explore how\\r\\nto use oriented bounding boxes, build applications in manufacturing with OCR, and a tutorial on detecting defects in glass!\\r\\n\\r\\n( https://blog.roboflow.com/train-yolov8-obb-model/?utm_campaign=%5BCopy%5D+Newsletter+-+2%2F8%2F2024+-+%5Bv8OBB%5D&utm_content=Newsletter+-+2%2F8%2F2023+-+%5Bv8OBB%5D&utm_medium=email_action&utm_source=email )\\r\\n\\r\\n***********************************************\\r\\nHow to Train a YOLO Oriented Bounding Box Model\\r\\n***********************************************\\r',\n",
       "  '4.  explore how\\r\\nto use oriented bounding boxes, build applications in manufacturing with OCR, and a tutorial on detecting defects in glass!How to Train a YOLO Oriented Bounding Box ModelHistorically, object detection models return bounding box coordinates that are horizontally-aligned. This means predictions can contain excess space around angled objects. In order to create tighter fit with bounding boxes, you can train a model that supports oriented bounding boxes. In this guide, we are going to s'],\n",
       " {'Labelbox <team@labelbox.com>': '[Guide] End-to-end workflow with model distillation for computer\\r\\n vision',\n",
       "  'LottieFiles <hello@lottiefiles.com>': 'Lottie Creator is here 🪄',\n",
       "  'Roboflow Team <hello@roboflow.com>': 'Guide to Training Oriented Bounding Box Models'})"
      ]
     },
     "execution_count": 89,
     "metadata": {},
     "output_type": "execute_result"
    }
   ],
   "source": [
    "body"
   ]
  },
  {
   "cell_type": "code",
   "execution_count": null,
   "metadata": {},
   "outputs": [],
   "source": [
    "# close and logout from imap server \n",
    "imap.close()\n",
    "imap.logout()"
   ]
  },
  {
   "cell_type": "markdown",
   "metadata": {},
   "source": [
    "# Archive code \n"
   ]
  },
  {
   "cell_type": "markdown",
   "metadata": {},
   "source": [
    "email_contents = []\n",
    "\n",
    "for i in range(messages, messages-N, -1):\n",
    "    # fetch emails by ID \n",
    "    res, msg = imap.fetch(str(i),\"(RFC822)\")\n",
    "    print(i)\n",
    "    for response in msg:\n",
    "        if isinstance(response,tuple):\n",
    "\n",
    "            # parse a bytes email into a message object, it will be encoded\n",
    "            msg = email.message_from_bytes(response[1])\n",
    "            \n",
    "            # decode the mail \n",
    "            subject, encoding = decode_header(msg[\"Subject\"])[0]\n",
    "\n",
    "            # if subject is an instance then decode. \n",
    "            if isinstance(subject, bytes):\n",
    "                subject = subject.decode(encoding)\n",
    "\n",
    "            # decode email sender \n",
    "            sender , encoding = decode_header(msg.get(\"From\"))[0]\n",
    "\n",
    "            # same if the sender is encoded \n",
    "            if isinstance(sender, bytes):\n",
    "                sender = sender.decode(encoding)\n",
    "            \n",
    "            # Print the subject and sender details.\n",
    "            #print(\"Subject : \", subject)\n",
    "            print(\"From address : \", sender)\n",
    "            \n",
    "            # if the email is multipart , iterate over the mail.\n",
    "            if msg.is_multipart():\n",
    "                for parts in msg.walk():\n",
    "                    \n",
    "                    # extract content type from email.\n",
    "                    content_type = parts.get_content_type()\n",
    "                    content_disposition = str(parts.get(\"Content-Disposition\"))\n",
    "                    \n",
    "                # try to extract the body \n",
    "                    try:\n",
    "                        body = parts.get_payload(decode=True).decode()\n",
    "\n",
    "                        # check if the body alreay exist cuz of the loop\n",
    "                        email_contents.append(body)\n",
    "                    except:\n",
    "                        pass              \n",
    "            # if the msg is not of mutlipart \n",
    "            else:\n",
    "                content_type = msg.get_content_type()\n",
    "                # get mail body \n",
    "                body = msg.get_payload(decode=True).decode()\n",
    "                email_contents.append(body)\n",
    "\n",
    "    "
   ]
  },
  {
   "cell_type": "markdown",
   "metadata": {},
   "source": [
    "from bs4 import BeautifulSoup\n",
    "import re \n",
    "\n",
    "extracted_mails = []\n",
    "\n",
    "def remove_unwanted_characters(text):\n",
    "    # Remove links\n",
    "    text = re.sub(r'\\([^)]*https?://[^\\s)]+\\)', '', text)\n",
    "    \n",
    "    # Remove references (e.g., utm parameters)\n",
    "    text = re.sub(r'\\(utm_[^)]*\\)', '', text)\n",
    "    \n",
    "    # Remove extra whitespace\n",
    "    text = re.sub(r'\\s+', ' ', text)\n",
    "    \n",
    "    return text.strip()\n",
    "i = 0\n",
    "for mail in body:\n",
    "    Parser = BeautifulSoup(mail, 'html.parser')\n",
    "    text_extracted = Parser.get_text().strip()[:150]\n",
    "    text_extracted = remove_unwanted_characters(text_extracted)\n",
    "    extracted_mails.append(f\"{i}.  \" + text_extracted)\n",
    "    i +=1\n",
    "    \n",
    "extracted_mails"
   ]
  }
 ],
 "metadata": {
  "kernelspec": {
   "display_name": "Projects",
   "language": "python",
   "name": "python3"
  },
  "language_info": {
   "codemirror_mode": {
    "name": "ipython",
    "version": 3
   },
   "file_extension": ".py",
   "mimetype": "text/x-python",
   "name": "python",
   "nbconvert_exporter": "python",
   "pygments_lexer": "ipython3",
   "version": "3.10.10"
  }
 },
 "nbformat": 4,
 "nbformat_minor": 2
}
